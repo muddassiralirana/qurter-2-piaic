{
 "cells": [
  {
   "cell_type": "markdown",
   "metadata": {},
   "source": [
    "# Reading Recipes \n",
    "\n",
    "Note: Data file is recipes.csv Attached with jupyter notebook"
   ]
  },
  {
   "cell_type": "raw",
   "metadata": {},
   "source": [
    "1. Start by importing NumPy as np"
   ]
  },
  {
   "cell_type": "code",
   "execution_count": 2,
   "metadata": {},
   "outputs": [],
   "source": [
    "#type your code here\n",
    "import numpy as np\n"
   ]
  },
  {
   "cell_type": "markdown",
   "metadata": {},
   "source": [
    "2. All of Alize’s recipes call for milk, eggs, sugar, flour, and butter. For example, her cupcake recipe calls for:\n",
    "\n",
    "Flour Sugar Eggs Milk Butter 2 cups 0.75 cups 2 eggs 1 cups 0.5 cups Create a NumPy array that represents this data. Each element should be a number (i.e., 2 for “2 cups”). Save this array as cupcakes."
   ]
  },
  {
   "cell_type": "code",
   "execution_count": 3,
   "metadata": {},
   "outputs": [
    {
     "data": {
      "text/plain": [
       "array([2.  , 0.75, 2.  , 1.  , 0.5 ])"
      ]
     },
     "execution_count": 3,
     "metadata": {},
     "output_type": "execute_result"
    }
   ],
   "source": [
    "#type your code here\n",
    "cupcakes=np.array([2,0.75,2,1,0.5])\n",
    "cupcakes"
   ]
  },
  {
   "cell_type": "markdown",
   "metadata": {},
   "source": [
    "3. Alize’s assistant has compiled all of her recipes into a csv (comma-separated variable) file called recipes.csv. Load this file into a variable called recipes.\n",
    "\n",
    "###########Explore yourselves how to load a csv file in numpy#######"
   ]
  },
  {
   "cell_type": "code",
   "execution_count": 4,
   "metadata": {},
   "outputs": [],
   "source": [
    "#type your code here\n",
    "import csv\n"
   ]
  },
  {
   "cell_type": "code",
   "execution_count": 5,
   "metadata": {},
   "outputs": [
    {
     "name": "stdout",
     "output_type": "stream",
     "text": [
      "['2', '0.75', '2', '1', '0.5']\n",
      "['1', '0.125', '1', '1', '0.125']\n",
      "['2.75', '1.5', '1', '0', '1']\n",
      "['4', '0.5', '2', '2', '0.5']\n"
     ]
    }
   ],
   "source": [
    "with open (\"recipes.csv\",\"r\") as file:\n",
    "    recipes=csv.reader(file)\n",
    "    for recipe in recipes:\n",
    "        print(recipe)"
   ]
  },
  {
   "cell_type": "code",
   "execution_count": 59,
   "metadata": {},
   "outputs": [
    {
     "data": {
      "text/plain": [
       "array([[2.   , 0.75 , 2.   , 1.   , 0.5  ],\n",
       "       [1.   , 0.125, 1.   , 1.   , 0.125],\n",
       "       [2.75 , 1.5  , 1.   , 0.   , 1.   ],\n",
       "       [4.   , 0.5  , 2.   , 2.   , 0.5  ]])"
      ]
     },
     "execution_count": 59,
     "metadata": {},
     "output_type": "execute_result"
    }
   ],
   "source": [
    "recipes = np.genfromtxt('recipes.csv', delimiter=',')\n",
    "recipes"
   ]
  },
  {
   "cell_type": "markdown",
   "metadata": {},
   "source": [
    "4.Display recipes using print.\n",
    "\n",
    "\n",
    "\n",
    "Each row represents a different recipe. Each column represents a different ingredient.\n",
    "\n",
    "Recipe\t       Cups of Flour\tCups of Sugar\tEggs\tCups of Milk\tCups of Butter\n",
    "\n",
    "Cupcakes\t         …\t              …\t          …\t         …\t              …\n",
    "\n",
    "Pancake\t             …                …\t          …\t         …\t              …\n",
    "\n",
    "Cookie\t             …\t              …\t          …\t         …\t              …\n",
    "\n",
    "Bread\t             …\t              …\t          …\t         …\t              …"
   ]
  },
  {
   "cell_type": "code",
   "execution_count": 6,
   "metadata": {},
   "outputs": [
    {
     "name": "stdout",
     "output_type": "stream",
     "text": [
      "['2' '0.75' '2' '1' '0.5'] ['1' '0.125' '1' '1' '0.125'] ['2.75' '1.5' '1' '0' '1'] ['4' '0.5' '2' '2' '0.5']\n",
      "cupcakes =  recipe cups of flour 2.0,Cups of Sugar 0.75 ,Eggs 2.0, Cups of Milk 1.0, Cups of Butter 0.5 \n",
      "Pancake =  recipe cups of flour 1,Cups of Sugar 0.125 ,Eggs 1, Cups of Milk 1, Cups of Butter 0.125 \n",
      "Cookie =  recipe cups of flour 2.75,Cups of Sugar 1.5 ,Eggs 1, Cups of Milk 0, Cups of Butter 1 \n",
      "Bread =  recipe cups of flour 4,Cups of Sugar 0.5 ,Eggs 2, Cups of Milk 2, Cups of Butter 0.5 \n"
     ]
    }
   ],
   "source": [
    "#type your code here\n",
    "Cupcakes=np.array(['2', '0.75', '2', '1', '0.5'])\n",
    "Pancake=np.array(['1', '0.125', '1', '1', '0.125'])\n",
    "Cookie=np.array(['2.75', '1.5', '1', '0', '1'])\n",
    "Bread=np.array(['4', '0.5', '2', '2', '0.5'])\n",
    "\n",
    "print (Cupcakes,Pancake,Cookie,Bread)\n",
    "\n",
    "print(\"cupcakes =\" ,f\" recipe cups of flour {cupcakes[0]},Cups of Sugar {cupcakes[1]} ,Eggs {cupcakes[2]}, Cups of Milk {cupcakes[3]}, Cups of Butter {cupcakes[4]} \")\n",
    "print(\"Pancake =\" ,f\" recipe cups of flour {Pancake[0]},Cups of Sugar {Pancake[1]} ,Eggs {Pancake[2]}, Cups of Milk {Pancake[3]}, Cups of Butter {Pancake[4]} \")\n",
    "print(\"Cookie =\" ,f\" recipe cups of flour {Cookie[0]},Cups of Sugar {Cookie[1]} ,Eggs {Cookie[2]}, Cups of Milk {Cookie[3]}, Cups of Butter {Cookie[4]} \")\n",
    "print(\"Bread =\" ,f\" recipe cups of flour {Bread[0]},Cups of Sugar {Bread[1]} ,Eggs {Bread[2]}, Cups of Milk {Bread[3]}, Cups of Butter {Bread[4]} \")"
   ]
  },
  {
   "cell_type": "code",
   "execution_count": 63,
   "metadata": {},
   "outputs": [
    {
     "data": {
      "text/plain": [
       "array([['recipe', 'flour', 'sugar', 'eggs', 'milk', 'butter'],\n",
       "       ['cupcakes', '2', '0.75', '2', '1', ' 0.5'],\n",
       "       ['pancake', '1', '0.125', '1', '1', '0.125'],\n",
       "       ['cookie', '2.75', '1.5', '1', '0', '1'],\n",
       "       ['bread', '4', '0.5', '2', '2', '0.5']], dtype='<U8')"
      ]
     },
     "execution_count": 63,
     "metadata": {},
     "output_type": "execute_result"
    }
   ],
   "source": [
    "cups=np.array([\"recipe\",\"flour\",\"sugar\",\"eggs\",\"milk\",\"butter\"])\n",
    "quantity=np.array([[\"cupcakes\",'2',  '0.75',   '2',   '1',  ' 0.5'],[\"pancake\",'1', '0.125', '1', '1', '0.125'],[\"cookie\",'2.75', '1.5', '1', '0', '1'],[\"bread\",'4', '0.5', '2', '2', '0.5']])\n",
    "\n",
    "\n",
    "a=np.vstack((cups,quantity))\n",
    "a\n",
    "\n"
   ]
  },
  {
   "cell_type": "markdown",
   "metadata": {},
   "source": [
    "5.The 3rd column represents the number of eggs that each recipe needs.\n",
    "\n",
    "Select all elements from the 3rd column and save them to the variable eggs."
   ]
  },
  {
   "cell_type": "code",
   "execution_count": 43,
   "metadata": {},
   "outputs": [
    {
     "data": {
      "text/plain": [
       "array([['eggs'],\n",
       "       ['2'],\n",
       "       ['1'],\n",
       "       ['1'],\n",
       "       ['2']], dtype='<U8')"
      ]
     },
     "execution_count": 43,
     "metadata": {},
     "output_type": "execute_result"
    }
   ],
   "source": [
    "#type your code here\n",
    "b=a[::,3:4]\n",
    "b"
   ]
  },
  {
   "cell_type": "code",
   "execution_count": 67,
   "metadata": {},
   "outputs": [
    {
     "data": {
      "text/plain": [
       "array([2., 1., 1., 2.])"
      ]
     },
     "execution_count": 67,
     "metadata": {},
     "output_type": "execute_result"
    }
   ],
   "source": [
    "eggs = recipes[:,2]\n",
    "eggs"
   ]
  },
  {
   "cell_type": "markdown",
   "metadata": {},
   "source": [
    "6.Which recipes require exactly 1 egg? Use a logical statement to get True or False for each value of eggs."
   ]
  },
  {
   "cell_type": "code",
   "execution_count": 77,
   "metadata": {},
   "outputs": [],
   "source": [
    "#type your code here\n",
    "one = recipes[(eggs == 1)]\n",
    "one\n",
    "\n"
   ]
  },
  {
   "cell_type": "markdown",
   "metadata": {},
   "source": [
    "7.Alize is going to make 2 batches of cupcakes (1st row) and 1 batch of cookies (3rd row).\n",
    "\n",
    "You already have a variable for cupcakes. Create a variable for cookies with the data from the 3rd row.\n"
   ]
  },
  {
   "cell_type": "code",
   "execution_count": 98,
   "metadata": {},
   "outputs": [
    {
     "name": "stdout",
     "output_type": "stream",
     "text": [
      "cupcakes [2.   0.75 2.   1.   0.5 ]\n",
      "---------------------------------------\n",
      "cookies [2.75 1.5  1.   0.   1.  ]\n"
     ]
    }
   ],
   "source": [
    "#type your code here\n",
    "\n",
    "print(\"cupcakes\",cupcakes)\n",
    "print(\"---------------------------------------\")\n",
    "\n",
    "cookies = recipes[2,:]\n",
    "print(\"cookies\",cookies)\n"
   ]
  },
  {
   "cell_type": "markdown",
   "metadata": {},
   "source": [
    "8.\n",
    "Get the number of ingredients for a double batch of cupcakes by using multiplication on cupcakes. Save your new variable to double_batch."
   ]
  },
  {
   "cell_type": "code",
   "execution_count": 99,
   "metadata": {},
   "outputs": [
    {
     "name": "stdout",
     "output_type": "stream",
     "text": [
      "double_batches_cake [4.  1.5 4.  2.  1. ]\n"
     ]
    }
   ],
   "source": [
    "#type your code here\n",
    "\n",
    "double_batches_cake=cupcakes*2\n",
    "\n",
    "print(\"double_batches_cake\",double_batches_cake)"
   ]
  },
  {
   "cell_type": "markdown",
   "metadata": {},
   "source": [
    "9.\n",
    "Create a new variable called grocery_list by adding cookies and double_batch."
   ]
  },
  {
   "cell_type": "code",
   "execution_count": 102,
   "metadata": {},
   "outputs": [
    {
     "name": "stdout",
     "output_type": "stream",
     "text": [
      "[6.75 3.   5.   2.   2.  ]\n"
     ]
    }
   ],
   "source": [
    "#type your code here\n",
    "grocery_list = cookies + double_batches_cake\n",
    "\n",
    "print (grocery_list)"
   ]
  },
  {
   "cell_type": "code",
   "execution_count": null,
   "metadata": {},
   "outputs": [],
   "source": []
  }
 ],
 "metadata": {
  "kernelspec": {
   "display_name": "Python 3",
   "language": "python",
   "name": "python3"
  },
  "language_info": {
   "codemirror_mode": {
    "name": "ipython",
    "version": 3
   },
   "file_extension": ".py",
   "mimetype": "text/x-python",
   "name": "python",
   "nbconvert_exporter": "python",
   "pygments_lexer": "ipython3",
   "version": "3.7.6"
  }
 },
 "nbformat": 4,
 "nbformat_minor": 2
}
